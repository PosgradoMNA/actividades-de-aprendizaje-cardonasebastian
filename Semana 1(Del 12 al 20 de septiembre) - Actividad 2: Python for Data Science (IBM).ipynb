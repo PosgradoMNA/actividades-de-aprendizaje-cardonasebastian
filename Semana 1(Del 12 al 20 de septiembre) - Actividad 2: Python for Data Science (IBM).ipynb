{
  "nbformat": 4,
  "nbformat_minor": 0,
  "metadata": {
    "colab": {
      "name": "assignment01.ipynb",
      "provenance": [],
      "include_colab_link": true
    },
    "kernelspec": {
      "name": "python3",
      "display_name": "Python 3"
    },
    "language_info": {
      "name": "python"
    }
  },
  "cells": [
    {
      "cell_type": "markdown",
      "metadata": {
        "id": "view-in-github",
        "colab_type": "text"
      },
      "source": [
        "<a href=\"https://colab.research.google.com/github/PosgradoMNA/actividades-de-aprendizaje-cardonasebastian/blob/main/Semana%201(Del%2012%20al%2020%20de%20septiembre)%20-%20Actividad%202%3A%20Python%20for%20Data%20Science%20(IBM).ipynb\" target=\"_parent\"><img src=\"https://colab.research.google.com/assets/colab-badge.svg\" alt=\"Open In Colab\"/></a>"
      ]
    },
    {
      "cell_type": "code",
      "execution_count": 2,
      "metadata": {
        "id": "LzUSMM79NR9P",
        "outputId": "d5d9a142-ce98-4b7c-acc1-72f1fee6ed94",
        "colab": {
          "base_uri": "https://localhost:8080/"
        }
      },
      "outputs": [
        {
          "output_type": "stream",
          "name": "stdout",
          "text": [
            "Hello Python 101\n",
            "Hello\n",
            "World!\n"
          ]
        }
      ],
      "source": [
        "#first example with python.\n",
        "print('Hello Python 101')\n",
        "#first question in lab\n",
        "print(\"Hello\\nWorld!\")"
      ]
    },
    {
      "cell_type": "code",
      "source": [
        "#tipos de datos\n",
        "#int\n",
        "#float\n",
        "#str\n",
        "\n",
        "#casteo de datos\n",
        "a = 2.0\n",
        "f = int(a)\n",
        "print(f)\n",
        "print(str(1))\n",
        "print(str(4.5))\n",
        "print(bool(1))\n",
        "print(bool(0))\n",
        "print(int(True))\n",
        "print(int(False))\n",
        "\n"
      ],
      "metadata": {
        "id": "mxM_WppZPMFx",
        "outputId": "4fe1ed73-a58d-4e6f-f087-ae012f81efe4",
        "colab": {
          "base_uri": "https://localhost:8080/"
        }
      },
      "execution_count": 15,
      "outputs": [
        {
          "output_type": "stream",
          "name": "stdout",
          "text": [
            "2\n",
            "1\n",
            "4.5\n",
            "True\n",
            "False\n",
            "1\n",
            "0\n"
          ]
        }
      ]
    },
    {
      "cell_type": "code",
      "source": [
        "#variables y expressions\n",
        "\n",
        "print(43+60+16+41)\n",
        "\n",
        "print(50-60)\n",
        "\n",
        "print(5*5)\n",
        "\n",
        "print(25/5)\n",
        "\n",
        "\n",
        "my_variable = 1\n",
        "\n",
        "total_min = 43 + 42 + 57\n",
        "\n",
        "total_hr = total_min/60\n",
        "\n",
        "print(total_hr)\n",
        "\n",
        "# operaciones\n",
        "\n",
        "25 // 6\n",
        "\n",
        "x = 43 + 60 + 16 + 41\n",
        "print(x)\n",
        "y = x / 60\n",
        "print(y)"
      ],
      "metadata": {
        "id": "A98XaqijzxSP",
        "outputId": "5f73d890-abbb-4cbe-885b-6fd9fb371a01",
        "colab": {
          "base_uri": "https://localhost:8080/"
        }
      },
      "execution_count": 22,
      "outputs": [
        {
          "output_type": "stream",
          "name": "stdout",
          "text": [
            "160\n",
            "-10\n",
            "25\n",
            "5.0\n",
            "2.3666666666666667\n",
            "160\n",
            "2.6666666666666665\n"
          ]
        }
      ]
    },
    {
      "cell_type": "code",
      "source": [
        "#operaciones con string\n",
        "name = \"Fernando Sebastian\"\n",
        "num = '01234567'\n",
        "\n",
        "print(name[0])\n",
        "print(name[-18])\n",
        "print(num[::2])\n",
        "\n",
        "b = len(\"Fernando Sebastian\")\n",
        "print(b)\n",
        "\n",
        "#substring\n",
        "print(name[0:4])\n",
        "print(name[0:5:2])\n",
        "\n",
        "3 * \"Sebastian\"\n",
        "\n",
        "#Upper\n",
        "a = \"Thriller is the sixth studio album\"\n",
        "print(\"before upper:\", a)\n",
        "b = a.upper()\n",
        "print(\"After upper:\", b)\n",
        "\n",
        "name.find('fer')"
      ],
      "metadata": {
        "id": "XiS4H9Jz3M2S",
        "outputId": "90bf0389-2ab0-4d3a-acc4-5cb95fdc5054",
        "colab": {
          "base_uri": "https://localhost:8080/"
        }
      },
      "execution_count": 35,
      "outputs": [
        {
          "output_type": "stream",
          "name": "stdout",
          "text": [
            "F\n",
            "F\n",
            "0246\n",
            "18\n",
            "Fern\n",
            "Fra\n",
            "before upper: Thriller is the sixth studio album\n",
            "After upper: THRILLER IS THE SIXTH STUDIO ALBUM\n"
          ]
        },
        {
          "output_type": "execute_result",
          "data": {
            "text/plain": [
              "-1"
            ]
          },
          "metadata": {},
          "execution_count": 35
        }
      ]
    },
    {
      "cell_type": "code",
      "source": [
        "#listas y tuples\n",
        "\n",
        "# Create your first tuple\n",
        "\n",
        "tuple1 = (\"disco\",10,1.2 )\n",
        "print(tuple1)\n",
        "\n",
        "type(tuple1)\n",
        "\n",
        "# Print the variable on each index\n",
        "\n",
        "print(tuple1[0])\n",
        "print(tuple1[1])\n",
        "print(tuple1[2])\n",
        "\n",
        "# Print the type of value on each index\n",
        "\n",
        "print(type(tuple1[0]))\n",
        "print(type(tuple1[1]))\n",
        "print(type(tuple1[2]))\n",
        "\n",
        "tuple1[-1]\n",
        "\n",
        "\n",
        "# Concatenate two tuples\n",
        "\n",
        "tuple2 = tuple1 + (\"hard rock\", 10)\n",
        "tuple2\n",
        "tuple2[3:5]\n",
        "\n",
        "\n",
        "len(tuple2)\n",
        "\n",
        "# A sample tuple\n",
        "\n",
        "Ratings = (0, 9, 6, 5, 10, 8, 9, 6, 2)\n",
        "\n",
        "# Sort the tuple\n",
        "\n",
        "RatingsSorted = sorted(Ratings)\n",
        "RatingsSorted\n",
        "\n",
        "# Create a nest tuple\n",
        "\n",
        "NestedT =(1, 2, (\"pop\", \"rock\") ,(3,4),(\"disco\",(1,2)))\n",
        "\n",
        "# Print element on each index\n",
        "\n",
        "print(\"Element 0 of Tuple: \", NestedT[0])\n",
        "print(\"Element 1 of Tuple: \", NestedT[1])\n",
        "print(\"Element 2 of Tuple: \", NestedT[2])\n",
        "print(\"Element 3 of Tuple: \", NestedT[3])\n",
        "print(\"Element 4 of Tuple: \", NestedT[4])\n",
        "\n",
        "# Create a list\n",
        "\n",
        "L = [\"Michael Jackson\", 10.1, 1982]\n",
        "L\n",
        "\n",
        "# Print the elements on each index\n",
        "\n",
        "print('the same element using negative and positive indexing:\\n Postive:',L[0],\n",
        "'\\n Negative:' , L[-3]  )\n",
        "print('the same element using negative and positive indexing:\\n Postive:',L[1],\n",
        "'\\n Negative:' , L[-2]  )\n",
        "print('the same element using negative and positive indexing:\\n Postive:',L[2],\n",
        "'\\n Negative:' , L[-1]  )\n",
        "\n",
        "\n",
        "# Sample List\n",
        "[\"Michael Jackson\", 10.1, 1982, [1, 2], (\"A\", 1)]"
      ],
      "metadata": {
        "id": "SUy2Rt6V69jo",
        "outputId": "4484607f-f9b3-4dd9-bdc7-70142a15e4b3",
        "colab": {
          "base_uri": "https://localhost:8080/"
        }
      },
      "execution_count": 46,
      "outputs": [
        {
          "output_type": "stream",
          "name": "stdout",
          "text": [
            "('disco', 10, 1.2)\n",
            "disco\n",
            "10\n",
            "1.2\n",
            "<class 'str'>\n",
            "<class 'int'>\n",
            "<class 'float'>\n",
            "Element 0 of Tuple:  1\n",
            "Element 1 of Tuple:  2\n",
            "Element 2 of Tuple:  ('pop', 'rock')\n",
            "Element 3 of Tuple:  (3, 4)\n",
            "Element 4 of Tuple:  ('disco', (1, 2))\n",
            "the same element using negative and positive indexing:\n",
            " Postive: Michael Jackson \n",
            " Negative: Michael Jackson\n",
            "the same element using negative and positive indexing:\n",
            " Postive: 10.1 \n",
            " Negative: 10.1\n",
            "the same element using negative and positive indexing:\n",
            " Postive: 1982 \n",
            " Negative: 1982\n"
          ]
        },
        {
          "output_type": "execute_result",
          "data": {
            "text/plain": [
              "['Michael Jackson', 10.1, 1982, [1, 2], ('A', 1)]"
            ]
          },
          "metadata": {},
          "execution_count": 46
        }
      ]
    },
    {
      "cell_type": "code",
      "source": [
        "#Sets\n",
        "# Create a set\n",
        "\n",
        "set1 = {\"pop\", \"rock\", \"soul\", \"hard rock\", \"rock\", \"R&B\", \"rock\", \"disco\"}\n",
        "set1\n",
        "\n",
        "\n",
        "# Convert list to set\n",
        "\n",
        "album_list = [ \"Michael Jackson\", \"Thriller\", 1982, \"00:42:19\", \\\n",
        "              \"Pop, Rock, R&B\", 46.0, 65, \"30-Nov-82\", None, 10.0]\n",
        "album_set = set(album_list)             \n",
        "album_set\n",
        "\n",
        "\n",
        "# Convert list to set\n",
        "\n",
        "music_genres = set([\"pop\", \"pop\", \"rock\", \"folk rock\", \"hard rock\", \"soul\", \\\n",
        "                    \"progressive rock\", \"soft rock\", \"R&B\", \"disco\"])\n",
        "music_genres\n",
        "\n",
        "# Sample set\n",
        "\n",
        "A = set([\"Thriller\", \"Back in Black\", \"AC/DC\"])\n",
        "A\n",
        "\n",
        "# Add element to set\n",
        "\n",
        "A.add(\"NSYNC\")\n",
        "A\n",
        "\n",
        "# Sample Sets\n",
        "\n",
        "album_set1 = set([\"Thriller\", 'AC/DC', 'Back in Black'])\n",
        "album_set2 = set([ \"AC/DC\", \"Back in Black\", \"The Dark Side of the Moon\"])\n",
        "\n",
        "S={'A','B','C'}\n",
        "\n",
        "U={'A','Z','C'}\n",
        "\n",
        "U.union(S)"
      ],
      "metadata": {
        "id": "85qrn0RYELEP",
        "outputId": "5a2bf5d2-41c3-4c5e-a6c5-0a12da31a8d3",
        "colab": {
          "base_uri": "https://localhost:8080/"
        }
      },
      "execution_count": 49,
      "outputs": [
        {
          "output_type": "execute_result",
          "data": {
            "text/plain": [
              "{'A', 'B', 'C', 'Z'}"
            ]
          },
          "metadata": {},
          "execution_count": 49
        }
      ]
    },
    {
      "cell_type": "code",
      "source": [
        "#Dictionaries\n",
        "\n",
        "# Create the dictionary\n",
        "\n",
        "Dict = {\"key1\": 1, \"key2\": \"2\", \"key3\": [3, 3, 3], \"key4\": (4, 4, 4), ('key5'): 5, (0, 1): 6}\n",
        "Dict\n",
        "\n",
        "# Access to the value by the key\n",
        "\n",
        "Dict[\"key1\"]\n",
        "\n",
        "# Access to the value by the key\n",
        "\n",
        "Dict[(0, 1)]\n",
        "\n",
        "# Create a sample dictionary\n",
        "\n",
        "release_year_dict = {\"Thriller\": \"1982\", \"Back in Black\": \"1980\", \\\n",
        "                    \"The Dark Side of the Moon\": \"1973\", \"The Bodyguard\": \"1992\", \\\n",
        "                    \"Bat Out of Hell\": \"1977\", \"Their Greatest Hits (1971-1975)\": \"1976\", \\\n",
        "                    \"Saturday Night Fever\": \"1977\", \"Rumours\": \"1977\"}\n",
        "release_year_dict\n",
        "\n",
        "# Get value by keys\n",
        "\n",
        "release_year_dict['Thriller'] \n",
        "\n",
        "# Get all the keys in dictionary\n",
        "\n",
        "release_year_dict.keys()\n",
        "\n",
        "# Get all the values in dictionary\n",
        "\n",
        "release_year_dict.values() \n",
        "\n",
        "# Delete entries by key\n",
        "\n",
        "del(release_year_dict['Thriller'])\n",
        "del(release_year_dict['Graduation'])\n",
        "release_year_dict"
      ],
      "metadata": {
        "id": "MsIe9AGAGjll"
      },
      "execution_count": null,
      "outputs": []
    },
    {
      "cell_type": "code",
      "source": [
        "#Exception Handling\n",
        "\n",
        "a = 1\n",
        "\n",
        "try:\n",
        "    b = int(input(\"Please enter a number to divide a\"))\n",
        "    a = a/b\n",
        "    print(\"Success a=\",a)\n",
        "except:\n",
        "    print(\"There was an error\")\n",
        "        \n",
        "\n",
        "a = 1\n",
        "\n",
        "try:\n",
        "    b = int(input(\"Please enter a number to divide a\"))\n",
        "    a = a/b\n",
        "    print(\"Success a=\",a)\n",
        "except ZeroDivisionError:\n",
        "    print(\"The number you provided cant divide 1 because it is 0\")\n",
        "except ValueError:\n",
        "    print(\"You did not provide a number\")\n",
        "except:\n",
        "    print(\"Something went wrong\")\n",
        "        \n",
        "a = 1\n",
        "\n",
        "try:\n",
        "    b = int(input(\"Please enter a number to divide a\"))\n",
        "    a = a/b\n",
        "except ZeroDivisionError:\n",
        "    print(\"The number you provided cant divide 1 because it is 0\")\n",
        "except ValueError:\n",
        "    print(\"You did not provide a number\")\n",
        "except:\n",
        "    print(\"Something went wrong\")\n",
        "else:\n",
        "    print(\"success a=\",a)"
      ],
      "metadata": {
        "id": "9wifG6F0I5vW",
        "outputId": "53cbb92d-f969-4e9c-ccbd-daef58cda5f6",
        "colab": {
          "base_uri": "https://localhost:8080/"
        }
      },
      "execution_count": 50,
      "outputs": [
        {
          "output_type": "stream",
          "name": "stdout",
          "text": [
            "Please enter a number to divide a2\n",
            "Success a= 0.5\n"
          ]
        }
      ]
    },
    {
      "cell_type": "code",
      "source": [
        "#Comparison Operations\n",
        "\n",
        "x = 2\n",
        "if(x=='a'):\n",
        "    print(\"this is a\")\n",
        "else:\n",
        "    print(\"this is  not a\")\n",
        "\n",
        "y=3\n",
        "x=1\n",
        "x>0 and y<10"
      ],
      "metadata": {
        "id": "t2SJV7anJ-cr",
        "outputId": "eeaea2b9-f494-48fb-fed8-9a66981e9597",
        "colab": {
          "base_uri": "https://localhost:8080/"
        }
      },
      "execution_count": 58,
      "outputs": [
        {
          "output_type": "stream",
          "name": "stdout",
          "text": [
            "this is  not a\n"
          ]
        },
        {
          "output_type": "execute_result",
          "data": {
            "text/plain": [
              "True"
            ]
          },
          "metadata": {},
          "execution_count": 58
        }
      ]
    },
    {
      "cell_type": "code",
      "source": [
        "#For Loops\n",
        "A=[3,4,5]\n",
        "for i in A:  \n",
        "    print(i) \n",
        "\n",
        "x=11\n",
        "y=1\n",
        "while(y != x):\n",
        "    print(y)\n",
        "    y=y+1"
      ],
      "metadata": {
        "id": "ekn0tUgvKfoI",
        "outputId": "3467e4dc-aacd-47a3-d6a4-8e9977a9b96b",
        "colab": {
          "base_uri": "https://localhost:8080/"
        }
      },
      "execution_count": 57,
      "outputs": [
        {
          "output_type": "stream",
          "name": "stdout",
          "text": [
            "3\n",
            "4\n",
            "5\n",
            "1\n",
            "2\n",
            "3\n",
            "4\n",
            "5\n",
            "6\n",
            "7\n",
            "8\n",
            "9\n",
            "10\n"
          ]
        }
      ]
    },
    {
      "cell_type": "code",
      "source": [
        "#Function\n",
        "\n",
        "def f(a,b):\n",
        "    \n",
        "    return a*b\n",
        "\n",
        "a=4\n",
        "b=2\n",
        "\n",
        "if a*b==f(a,b):   \n",
        "    print(\"Correct.\")   \n",
        "else:    \n",
        "    print(\"Incorrect.\")\n",
        "\n",
        "def g(c):\n",
        "\n",
        "    return \n",
        "    \n",
        "c=[1,2,3,4,5]\n",
        "\n",
        "if sum(c)==g(c):   \n",
        "    print(\"Correct.\")   \n",
        "else:    \n",
        "    print(\"Incorrect.\")"
      ],
      "metadata": {
        "id": "jhfJYezBK_jL",
        "outputId": "d22dd906-8fa4-45cf-cc14-d398aa4ec90d",
        "colab": {
          "base_uri": "https://localhost:8080/"
        }
      },
      "execution_count": 62,
      "outputs": [
        {
          "output_type": "stream",
          "name": "stdout",
          "text": [
            "Correct.\n",
            "Incorrect.\n"
          ]
        }
      ]
    },
    {
      "cell_type": "code",
      "source": [
        "#Clases\n",
        "\n",
        "class Car(object):\n",
        "    def __init__(self,make,model,color):\n",
        "        self.make=make;\n",
        "        self.model=model;\n",
        "        self.color=color;\n",
        "        self.owner_number=0 \n",
        "    def car_info(self):\n",
        "        print(\"make: \",self.make)\n",
        "        print(\"model:\", self.model)\n",
        "        print(\"color:\",self.color)\n",
        "        print(\"number of owners:\",self.owner_number)\n",
        "    def sell(self):\n",
        "        self.owner_number=self.owner_number+1\n",
        "\n",
        "make=\"BMW\"\n",
        "model=\"M3\"\n",
        "color=\"red\"\n",
        "\n",
        "my_car = Car(make,model,color)\n",
        "\n",
        "my_car.car_info()"
      ],
      "metadata": {
        "id": "pLT7SuW6LjdI",
        "outputId": "4dc716f9-6d06-4880-9407-03f54beb79f6",
        "colab": {
          "base_uri": "https://localhost:8080/"
        }
      },
      "execution_count": 63,
      "outputs": [
        {
          "output_type": "stream",
          "name": "stdout",
          "text": [
            "make:  BMW\n",
            "model: M3\n",
            "color: red\n",
            "number of owners: 0\n"
          ]
        }
      ]
    }
  ]
}