{
  "nbformat": 4,
  "nbformat_minor": 0,
  "metadata": {
    "colab": {
      "provenance": [],
      "authorship_tag": "ABX9TyPhUOARJjmd51iiahekmsjM",
      "include_colab_link": true
    },
    "kernelspec": {
      "name": "python3",
      "display_name": "Python 3"
    },
    "language_info": {
      "name": "python"
    }
  },
  "cells": [
    {
      "cell_type": "markdown",
      "metadata": {
        "id": "view-in-github",
        "colab_type": "text"
      },
      "source": [
        "<a href=\"https://colab.research.google.com/github/PosgradoMNA/actividades-de-aprendizaje-cardonasebastian/blob/main/Semana8-IBM-Python.ipynb\" target=\"_parent\"><img src=\"https://colab.research.google.com/assets/colab-badge.svg\" alt=\"Open In Colab\"/></a>"
      ]
    },
    {
      "cell_type": "markdown",
      "source": [
        "###**Actividad Semanal -- 8: Data Analysis with Python (IBM)**\n",
        "Maestría en Inteligencia Artificial Aplicada\n",
        "\n",
        "Tecnológico de Monterrey\n",
        "\n",
        "Materia: Ciencia y Analítica de Datos\n",
        "\n",
        "**Profesor Titular:**\n",
        "- María de la Paz Rico Fernández\n",
        "\n",
        "**Profesor Tutor:**\n",
        "- Roberto Antonio Guevara González\n",
        "\n",
        "**Nombre de la estudiante:**\n",
        "- Fernando Sebastian Sanchez Cardona\n",
        "\n",
        "**Matricula:**\n",
        "- A01687530"
      ],
      "metadata": {
        "id": "3sZxQ2x4DBD_"
      }
    },
    {
      "cell_type": "code",
      "source": [],
      "metadata": {
        "id": "zXLveoIXDESP"
      },
      "execution_count": null,
      "outputs": []
    }
  ]
}